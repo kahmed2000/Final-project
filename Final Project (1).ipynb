{
 "cells": [
  {
   "cell_type": "markdown",
   "id": "b4520d72-1fe0-42e7-b19f-8ea3a7127006",
   "metadata": {},
   "source": [
    "<font size=\"5\">Landform Evolution based on Mass Conservation: Fluvial Erosion Modules"
   ]
  },
  {
   "cell_type": "markdown",
   "id": "b6680841-63b2-469b-8255-fbbf15ca0c64",
   "metadata": {},
   "source": [
    "<font size=\"4\">Introduction (10 pts)\n",
    "    \n",
    "What is the main theme?\n",
    "\n",
    "Why is it important?\n",
    "\n",
    "What observations, models, etc are used by others that are different from what you are doing in the project.\n"
   ]
  },
  {
   "cell_type": "markdown",
   "id": "43d8ce26-f715-49ac-b7a9-afa06a994f80",
   "metadata": {},
   "source": [
    "<font size=\"4\">Equations (10 pts)\n",
    "\n",
    "What are the fundamental physical/chemical/etc. processes? \n",
    "\n",
    "Relevant equations and potentially where they come from (i.e. how are they derived)\n",
    "\n",
    "Describe all terms and parameters. \n",
    "\n",
    "Describe any assumptions being made: \"If the potential sediment transport entering a node is greater than that exiting then deposition occurs. If thepotential transport rate exiting the node exceeds that entering then erosion occurs.\"\n"
   ]
  },
  {
   "attachments": {
    "1ef6dbd1-c97d-49d4-b56d-3bfa3d730dd7.png": {
     "image/png": "[encoded data removed]"
    }
   },
   "cell_type": "markdown",
   "id": "d038d980",
   "metadata": {},
   "source": [
    "![image.png](attachment:1ef6dbd1-c97d-49d4-b56d-3bfa3d730dd7.png)"
   ]
  },
  {
   "cell_type": "markdown",
   "id": "32b24609-2a42-40d4-a5ca-b0d13af94729",
   "metadata": {},
   "source": [
    "U=rate of tectonic uplift\n",
    "\n",
    "Qs=sediment transport flux\n",
    "\n",
    "∇⋅Qsi=divergence of sediment flow"
   ]
  },
  {
   "cell_type": "markdown",
   "id": "c890af51-f7ab-4595-b9e5-ba2d084ef4f8",
   "metadata": {},
   "source": [
    "<font size=\"4\">Numerical methods (20 pts)\n",
    "\n",
    "Describe the numerical methods used.\n",
    "\n",
    "Why did you choose to use these methods\n",
    "\n",
    "Code works as intended"
   ]
  },
  {
   "cell_type": "code",
   "execution_count": 2,
   "id": "ff6fac89",
   "metadata": {},
   "outputs": [],
   "source": [
    "import numpy as np\n",
    "import matplotlib.pyplot as plt\n",
    "from scipy.sparse import spdiags"
   ]
  },
  {
   "cell_type": "code",
   "execution_count": 9,
   "id": "0ee83fed",
   "metadata": {},
   "outputs": [],
   "source": [
    "#Advection\n",
    "#initial parameters\n",
    "n=1000\n",
    "ti=0\n",
    "U=0.0001 #m/yr\n",
    "u=1 #m/s\n",
    "dx=100\n",
    "L=200 #hillslope length\n",
    "M=200 #average mass of sediment entrained per entrainment event\n",
    "lam=10\n",
    "x=np.linspace(0,100000,n)\n",
    "#dQ=[dQ/dt+dQ/dx]*dx/dt\n",
    "#Qi=Q-C*[Q-Q1]\n",
    "tf=100\n",
    "C=0.1\n",
    "dt=C*(dx)/u\n",
    "nt=round(tf/dt)\n",
    "\n",
    "#boundary conditions\n",
    "Qsi=lam*M*L"
   ]
  },
  {
   "cell_type": "code",
   "execution_count": 13,
   "id": "1ec31d00",
   "metadata": {},
   "outputs": [
    {
     "ename": "ValueError",
     "evalue": "could not broadcast input array from shape (1000,1000) into shape (1000,)",
     "output_type": "error",
     "traceback": [
      "\u001b[0;31m---------------------------------------------------------------------------\u001b[0m",
      "\u001b[0;31mValueError\u001b[0m                                Traceback (most recent call last)",
      "Input \u001b[0;32mIn [13]\u001b[0m, in \u001b[0;36m<cell line: 4>\u001b[0;34m()\u001b[0m\n\u001b[1;32m      2\u001b[0m Q_t0\u001b[38;5;241m=\u001b[39mlam\u001b[38;5;241m*\u001b[39mM\u001b[38;5;241m*\u001b[39mL\n\u001b[1;32m      3\u001b[0m Q\u001b[38;5;241m=\u001b[39mnp\u001b[38;5;241m.\u001b[39mzeros([n,nt])\n\u001b[0;32m----> 4\u001b[0m Q[:,\u001b[38;5;241m0\u001b[39m]\u001b[38;5;241m=\u001b[39mQ_t0\n\u001b[1;32m      5\u001b[0m \u001b[38;5;66;03m#if this matrix is supposed to be to solve for z, what would our exact\u001b[39;00m\n\u001b[1;32m      6\u001b[0m \u001b[38;5;66;03m#solution be?\u001b[39;00m\n\u001b[1;32m      7\u001b[0m \n\u001b[1;32m      8\u001b[0m \u001b[38;5;66;03m#matrix\u001b[39;00m\n\u001b[1;32m     10\u001b[0m data \u001b[38;5;241m=\u001b[39m np\u001b[38;5;241m.\u001b[39marray([\u001b[38;5;241m1\u001b[39m\u001b[38;5;241m-\u001b[39mC\u001b[38;5;241m*\u001b[39mnp\u001b[38;5;241m.\u001b[39mones(n), C\u001b[38;5;241m*\u001b[39mnp\u001b[38;5;241m.\u001b[39mones(n)])\n",
      "\u001b[0;31mValueError\u001b[0m: could not broadcast input array from shape (1000,1000) into shape (1000,)"
     ]
    }
   ],
   "source": [
    "#set parameters with exact equation\n",
    "Q_t0=lam*M*L\n",
    "Q=np.zeros([n,nt])\n",
    "Q[:,0]=Q_t0\n",
    "#if this matrix is supposed to be to solve for z, what would our exact\n",
    "#solution be?\n",
    "\n",
    "#matrix\n",
    "\n",
    "data = np.array([1-C*np.ones(n), C*np.ones(n)])\n",
    "diags = np.array([0,1])\n",
    "M = spdiags(data, diags, n,n).toarray()"
   ]
  },
  {
   "cell_type": "code",
   "execution_count": null,
   "id": "698e2e3e",
   "metadata": {},
   "outputs": [],
   "source": [
    "#initial conditions\n",
    "M[1,1] = 1\n",
    "M[1,2] = 0\n",
    "M[2,1] = 1\n",
    "M[2,2] = 1-C\n",
    "\n",
    "x1 = (x<Qsi) \n",
    "x2 = (x>Qsi) \n",
    "M[x1] = depositionrate\n",
    "M[x2] = erosionrate #how are we supposed to calculate this through\n",
    "#our matrix\n",
    "\n",
    "\n",
    "\n",
    "#run loop\n",
    "#plot\n",
    "#elevation (Q) by time (t)\n",
    "plt.plot(t,Q)"
   ]
  },
  {
   "cell_type": "markdown",
   "id": "0f900ab7-d571-462f-bcb1-42aa2c68ea5b",
   "metadata": {},
   "source": [
    "<font size=\"4\">Results (20 pts)\n",
    "\n",
    "What simulations did you run with the model?\n",
    "\n",
    "Describe the results.\n",
    "\n",
    "How do the results compare with any known solutions, or data?\n",
    "\n",
    "How do the results change with different methods, time steps, grid spacing, or model parameters?\n",
    "\n",
    "What did the model tell you about the process you were studying?\n",
    "\n",
    "How could the model be improved in terms of methods used or processes included?"
   ]
  },
  {
   "cell_type": "markdown",
   "id": "c95fa566-0a67-4266-9127-a7601fab619b",
   "metadata": {},
   "source": [
    "<font size=\"4\">References"
   ]
  }
 ],
 "metadata": {
  "kernelspec": {
   "display_name": "Python 3",
   "language": "python",
   "name": "python3"
  },
  "language_info": {
   "codemirror_mode": {
    "name": "ipython",
    "version": 3
   },
   "file_extension": ".py",
   "mimetype": "text/x-python",
   "name": "python",
   "nbconvert_exporter": "python",
   "pygments_lexer": "ipython3",
   "version": "3.8.8"
  }
 },
 "nbformat": 4,
 "nbformat_minor": 5
}
